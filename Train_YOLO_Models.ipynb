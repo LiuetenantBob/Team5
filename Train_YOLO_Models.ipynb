{
 "cells": [
  {
   "cell_type": "code",
   "execution_count": null,
   "metadata": {
    "id": "cfaWho47RGDf"
   },
   "outputs": [],
   "source": [
    "!nvidia-smi"
   ]
  },
  {
   "cell_type": "code",
   "execution_count": null,
   "metadata": {
    "id": "z8O6z-wVcPEF"
   },
   "outputs": [],
   "source": [
    "# Unzip images\n",
    "!unzip -q /content/data.zip -d /content/custom_data"
   ]
  },
  {
   "cell_type": "code",
   "execution_count": null,
   "metadata": {
    "id": "8X62eFTugosf"
   },
   "outputs": [],
   "source": [
    "# Seperate Images into train and test folders\n",
    "!wget -O /content/train_val_split.py https://raw.githubusercontent.com/EdjeElectronics/Train-and-Deploy-YOLO-Models/refs/heads/main/utils/train_val_split.py\n",
    "\n",
    "!python train_val_split.py --datapath=\"/content/custom_data\" --train_pct=0.9"
   ]
  },
  {
   "cell_type": "code",
   "execution_count": null,
   "metadata": {
    "id": "EMEDk5byzxY5"
   },
   "outputs": [],
   "source": [
    "!pip install ultralytics"
   ]
  },
  {
   "cell_type": "code",
   "execution_count": null,
   "metadata": {
    "id": "4letvP7X12ji"
   },
   "outputs": [],
   "source": [
    "import yaml\n",
    "import os\n",
    "\n",
    "def create_data_yaml(path_to_classes_txt, path_to_data_yaml):\n",
    "  if not os.path.exists(path_to_classes_txt):\n",
    "    print(f'classes.txt file not found! Please create a classes.txt labelmap and move it to {path_to_classes_txt}')\n",
    "    return\n",
    "  with open(path_to_classes_txt, 'r') as f:\n",
    "    classes = []\n",
    "    for line in f.readlines():\n",
    "      if len(line.strip()) == 0: continue\n",
    "      classes.append(line.strip())\n",
    "  number_of_classes = len(classes)\n",
    "\n",
    "  # Data dictionary\n",
    "  data = {\n",
    "      'path': '/content/data',\n",
    "      'train': 'train/images',\n",
    "      'val': 'validation/images',\n",
    "      'nc': number_of_classes,\n",
    "      'names': classes\n",
    "  }\n",
    "\n",
    "  # Write data to YAML file\n",
    "  with open(path_to_data_yaml, 'w') as f:\n",
    "    yaml.dump(data, f, sort_keys=False)\n",
    "  print(f'Created config file at {path_to_data_yaml}')\n",
    "\n",
    "  return\n",
    "\n",
    "# Define path to classes.txt and run function\n",
    "path_to_classes_txt = '/content/custom_data/classes.txt'\n",
    "path_to_data_yaml = '/content/data.yaml'\n",
    "\n",
    "create_data_yaml(path_to_classes_txt, path_to_data_yaml)\n",
    "\n",
    "print('\\nFile contents:\\n')\n",
    "!cat /content/data.yaml"
   ]
  },
  {
   "cell_type": "code",
   "execution_count": null,
   "metadata": {
    "id": "8bbpob1gTPlo"
   },
   "outputs": [],
   "source": [
    "# Run training\n",
    "!yolo detect train data=/content/data.yaml model=yolo11s.pt epochs=60 imgsz=640"
   ]
  },
  {
   "cell_type": "code",
   "execution_count": null,
   "metadata": {
    "id": "PooP5Vjsg2Jn"
   },
   "outputs": [],
   "source": [
    "!yolo detect predict model=runs/detect/train/weights/best.pt source=data/validation/images save=True"
   ]
  },
  {
   "cell_type": "code",
   "execution_count": null,
   "metadata": {
    "id": "zEEObQqoiGrs"
   },
   "outputs": [],
   "source": [
    "# Run tests\n",
    "import glob\n",
    "from IPython.display import Image, display\n",
    "for image_path in glob.glob(f'/content/runs/detect/predict/*.jpg')[:10]:\n",
    "  display(Image(filename=image_path, height=400))\n",
    "  print('\\n')\n"
   ]
  },
  {
   "cell_type": "code",
   "execution_count": null,
   "metadata": {
    "id": "qcBdnOA9v85S"
   },
   "outputs": [],
   "source": [
    "# Create \"my_model\" folder to store model weights and train results\n",
    "!mkdir /content/my_model\n",
    "!cp /content/runs/detect/train/weights/best.pt /content/my_model/my_model.pt\n",
    "!cp -r /content/runs/detect/train /content/my_model\n",
    "\n",
    "# Zip into \"my_model.zip\"\n",
    "%cd my_model\n",
    "!zip /content/my_model.zip my_model.pt\n",
    "!zip -r /content/my_model.zip train\n",
    "%cd /content"
   ]
  }
 ],
 "metadata": {
  "accelerator": "GPU",
  "colab": {
   "gpuType": "T4",
   "provenance": []
  },
  "kernelspec": {
   "display_name": "Python 3 (ipykernel)",
   "language": "python",
   "name": "python3"
  },
  "language_info": {
   "codemirror_mode": {
    "name": "ipython",
    "version": 3
   },
   "file_extension": ".py",
   "mimetype": "text/x-python",
   "name": "python",
   "nbconvert_exporter": "python",
   "pygments_lexer": "ipython3",
   "version": "3.12.11"
  }
 },
 "nbformat": 4,
 "nbformat_minor": 4
}
